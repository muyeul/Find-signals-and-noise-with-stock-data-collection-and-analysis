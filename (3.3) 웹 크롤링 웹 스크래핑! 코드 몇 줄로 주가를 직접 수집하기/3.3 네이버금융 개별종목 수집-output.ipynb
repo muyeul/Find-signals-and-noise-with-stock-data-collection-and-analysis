{
 "cells": [
  {
   "cell_type": "markdown",
   "metadata": {
    "id": "pOdYzjmEAGhg"
   },
   "source": [
    "[![Open In Colab](https://colab.research.google.com/assets/colab-badge.svg)](https://colab.research.google.com/github/corazzon/finance-data-analysis/blob/main/3.3%20%EB%84%A4%EC%9D%B4%EB%B2%84%EA%B8%88%EC%9C%B5%20%EA%B0%9C%EB%B3%84%EC%A2%85%EB%AA%A9%20%EC%88%98%EC%A7%91-output.ipynb)\n",
    "\n",
    "## 네이버 금융 개별종목 수집\n",
    "* FinanceDataReader를 통해 수집했던 데이터를 네이버 증권 웹 페이지를 통해 직접 수집합니다.\n",
    "\n",
    "\n",
    "### Keyword\n",
    "\n",
    "* html 파일 읽어오기\n",
    "    * pd.read_html(url, encoding=\"cp949\")\n",
    "\n",
    "* 결측 데이터 제거하기(axis 0:행, 1:열)\n",
    "    * table[0].dropna()\n",
    "\n",
    "* 데이터 프레임 합치기\n",
    "    * pd.concat([df1, df2, df3])\n",
    "\n",
    "* 중복데이터 제거\n",
    "    * df.drop_duplicates()\n",
    "\n",
    "* 과학적 기수법\n",
    "    * 1.210000e+02 => 121\n",
    "\n",
    "* 날짜 column의 첫 row값 확인\n",
    "    * date = df.iloc[0][\"날짜\"]\n",
    "\n",
    "* 파일로 저장하기 \n",
    "    * df.to_csv(file_name, index=False)\n",
    "\n",
    "* 파일 읽어오기\n",
    "    * pd.read_csv(file_name)"
   ]
  },
  {
   "cell_type": "markdown",
   "metadata": {
    "id": "-lIn4AdJTMkA"
   },
   "source": [
    "## 수집할 페이지 보기\n",
    "\n",
    "* 네이버 금융 국내증시 : https://finance.naver.com/sise/\n",
    "* 2020년 주요 상장종목\n",
    "    * 빅히트 : https://finance.naver.com/item/main.nhn?code=352820\n",
    "    * 카카오게임즈 : https://finance.naver.com/item/main.nhn?code=293490\n",
    "    * SK바이오팜 : https://finance.naver.com/item/main.nhn?code=326030"
   ]
  },
  {
   "cell_type": "markdown",
   "metadata": {},
   "source": [
    "## 라이브러리 로드"
   ]
  },
  {
   "cell_type": "code",
   "execution_count": 1,
   "metadata": {
    "id": "6Mm8vuymTMkA"
   },
   "outputs": [],
   "source": [
    "# 라이브러리 로드\n",
    "import pandas as pd"
   ]
  },
  {
   "cell_type": "markdown",
   "metadata": {},
   "source": [
    "## 수집할 URL 정하기"
   ]
  },
  {
   "cell_type": "code",
   "execution_count": 2,
   "metadata": {
    "id": "QzZJoAvoTMkA"
   },
   "outputs": [
    {
     "data": {
      "text/plain": [
       "'https://finance.naver.com/item/sise_day.nhn?code=326030&page=1'"
      ]
     },
     "execution_count": 2,
     "metadata": {},
     "output_type": "execute_result"
    }
   ],
   "source": [
    "# 종목번호와 상장사 이름을 item_code와 item_name으로 설정\n",
    "# item_code = \"352820\"\n",
    "# item_name = \"빅히트\"\n",
    "\n",
    "item_code = \"326030\"\n",
    "item_name = \"SK바이오팜\"\n",
    "page_no = 1\n",
    "\n",
    "# 종목 URL 만들기\n",
    "url = f\"https://finance.naver.com/item/sise_day.nhn?code={item_code}&page={page_no}\"\n",
    "url"
   ]
  },
  {
   "cell_type": "markdown",
   "metadata": {},
   "source": [
    "## requests를 통한 HTTP 요청\n",
    "* [Requests: HTTP for Humans™ — Requests documentation](https://requests.readthedocs.io/en/master/)\n",
    "* [Quickstart — Requests documentation # custom-headers](https://requests.readthedocs.io/en/latest/user/quickstart/#custom-headers)"
   ]
  },
  {
   "cell_type": "code",
   "execution_count": 3,
   "metadata": {},
   "outputs": [],
   "source": [
    "import requests\n",
    "\n",
    "headers = {'user-agent': 'Mozilla/5.0 (Macintosh; Intel Mac OS X 10_15_7) AppleWebKit/537.36 (KHTML, like Gecko) Chrome/88.0.4324.96 Safari/537.36'}\n",
    "\n",
    "response = requests.get(url, headers=headers)\n",
    "# response.text"
   ]
  },
  {
   "cell_type": "markdown",
   "metadata": {},
   "source": [
    "## BeautifulSoup 을 통한 table 태그 찾기\n",
    "\n",
    "* [Beautiful Soup Documentation — Beautiful Soup 4.9.0 documentation](https://www.crummy.com/software/BeautifulSoup/bs4/doc/)"
   ]
  },
  {
   "cell_type": "code",
   "execution_count": 4,
   "metadata": {},
   "outputs": [
    {
     "data": {
      "text/plain": [
       "2"
      ]
     },
     "execution_count": 4,
     "metadata": {},
     "output_type": "execute_result"
    }
   ],
   "source": [
    "from bs4 import BeautifulSoup as bs\n",
    "\n",
    "html = bs(response.text, \"lxml\")\n",
    "table = html.select(\"table\")\n",
    "len(table)"
   ]
  },
  {
   "cell_type": "code",
   "execution_count": 5,
   "metadata": {},
   "outputs": [
    {
     "data": {
      "text/plain": [
       "list"
      ]
     },
     "execution_count": 5,
     "metadata": {},
     "output_type": "execute_result"
    }
   ],
   "source": [
    "type(table)"
   ]
  },
  {
   "cell_type": "markdown",
   "metadata": {},
   "source": [
    "## pandas 코드 한 줄로 데이터 수집하기"
   ]
  },
  {
   "cell_type": "code",
   "execution_count": 6,
   "metadata": {
    "id": "T3e0Jt0mTMkA"
   },
   "outputs": [],
   "source": [
    "# read_html을 이용하여 url의 page내의 값을 DataFrame으로 받아옵니다.\n",
    "# cp949는 한글 인코딩을 위해 사용합니다. 기본 인코딩 설정은 utf-8 이며, \n",
    "# 네이버의 일별 시세는 cp949 인코딩으로 불러올 수 있습니다.\n",
    "# 데이터를 로드 했을 때 한글 인코딩이 깨진다면 대부분 cp949 로 불러올 수 있습니다.\n",
    "table = pd.read_html(str(table))"
   ]
  },
  {
   "cell_type": "code",
   "execution_count": 7,
   "metadata": {
    "id": "GQ_LCYp0TMkA"
   },
   "outputs": [
    {
     "data": {
      "text/html": [
       "<div>\n",
       "<style scoped>\n",
       "    .dataframe tbody tr th:only-of-type {\n",
       "        vertical-align: middle;\n",
       "    }\n",
       "\n",
       "    .dataframe tbody tr th {\n",
       "        vertical-align: top;\n",
       "    }\n",
       "\n",
       "    .dataframe thead th {\n",
       "        text-align: right;\n",
       "    }\n",
       "</style>\n",
       "<table border=\"1\" class=\"dataframe\">\n",
       "  <thead>\n",
       "    <tr style=\"text-align: right;\">\n",
       "      <th></th>\n",
       "      <th>0</th>\n",
       "      <th>1</th>\n",
       "      <th>2</th>\n",
       "      <th>3</th>\n",
       "      <th>4</th>\n",
       "      <th>5</th>\n",
       "      <th>6</th>\n",
       "      <th>7</th>\n",
       "      <th>8</th>\n",
       "      <th>9</th>\n",
       "      <th>10</th>\n",
       "      <th>11</th>\n",
       "    </tr>\n",
       "  </thead>\n",
       "  <tbody>\n",
       "    <tr>\n",
       "      <th>0</th>\n",
       "      <td>1</td>\n",
       "      <td>2</td>\n",
       "      <td>3</td>\n",
       "      <td>4</td>\n",
       "      <td>5</td>\n",
       "      <td>6</td>\n",
       "      <td>7</td>\n",
       "      <td>8</td>\n",
       "      <td>9</td>\n",
       "      <td>10</td>\n",
       "      <td>다음</td>\n",
       "      <td>맨뒤</td>\n",
       "    </tr>\n",
       "  </tbody>\n",
       "</table>\n",
       "</div>"
      ],
      "text/plain": [
       "   0   1   2   3   4   5   6   7   8   9   10  11\n",
       "0   1   2   3   4   5   6   7   8   9  10  다음  맨뒤"
      ]
     },
     "execution_count": 7,
     "metadata": {},
     "output_type": "execute_result"
    }
   ],
   "source": [
    "# table[0]와 table[1]을 확인하여 보면 table[0]에 필요한 데이터들이 있습니다.\n",
    "table[1]"
   ]
  },
  {
   "cell_type": "code",
   "execution_count": 8,
   "metadata": {
    "id": "0gI1rNUbTMkA"
   },
   "outputs": [
    {
     "data": {
      "text/html": [
       "<div>\n",
       "<style scoped>\n",
       "    .dataframe tbody tr th:only-of-type {\n",
       "        vertical-align: middle;\n",
       "    }\n",
       "\n",
       "    .dataframe tbody tr th {\n",
       "        vertical-align: top;\n",
       "    }\n",
       "\n",
       "    .dataframe thead th {\n",
       "        text-align: right;\n",
       "    }\n",
       "</style>\n",
       "<table border=\"1\" class=\"dataframe\">\n",
       "  <thead>\n",
       "    <tr style=\"text-align: right;\">\n",
       "      <th></th>\n",
       "      <th>날짜</th>\n",
       "      <th>종가</th>\n",
       "      <th>전일비</th>\n",
       "      <th>시가</th>\n",
       "      <th>고가</th>\n",
       "      <th>저가</th>\n",
       "      <th>거래량</th>\n",
       "    </tr>\n",
       "  </thead>\n",
       "  <tbody>\n",
       "    <tr>\n",
       "      <th>1</th>\n",
       "      <td>2021.03.31</td>\n",
       "      <td>103000.0</td>\n",
       "      <td>1000.0</td>\n",
       "      <td>108000.0</td>\n",
       "      <td>109000.0</td>\n",
       "      <td>102500.0</td>\n",
       "      <td>670731.0</td>\n",
       "    </tr>\n",
       "    <tr>\n",
       "      <th>2</th>\n",
       "      <td>2021.03.30</td>\n",
       "      <td>104000.0</td>\n",
       "      <td>3000.0</td>\n",
       "      <td>101500.0</td>\n",
       "      <td>104500.0</td>\n",
       "      <td>100500.0</td>\n",
       "      <td>395848.0</td>\n",
       "    </tr>\n",
       "    <tr>\n",
       "      <th>3</th>\n",
       "      <td>2021.03.29</td>\n",
       "      <td>101000.0</td>\n",
       "      <td>3000.0</td>\n",
       "      <td>104500.0</td>\n",
       "      <td>104500.0</td>\n",
       "      <td>100000.0</td>\n",
       "      <td>523105.0</td>\n",
       "    </tr>\n",
       "    <tr>\n",
       "      <th>4</th>\n",
       "      <td>2021.03.26</td>\n",
       "      <td>104000.0</td>\n",
       "      <td>500.0</td>\n",
       "      <td>105000.0</td>\n",
       "      <td>105000.0</td>\n",
       "      <td>102000.0</td>\n",
       "      <td>300995.0</td>\n",
       "    </tr>\n",
       "    <tr>\n",
       "      <th>5</th>\n",
       "      <td>2021.03.25</td>\n",
       "      <td>104500.0</td>\n",
       "      <td>2000.0</td>\n",
       "      <td>106000.0</td>\n",
       "      <td>106000.0</td>\n",
       "      <td>104000.0</td>\n",
       "      <td>328715.0</td>\n",
       "    </tr>\n",
       "    <tr>\n",
       "      <th>9</th>\n",
       "      <td>2021.03.24</td>\n",
       "      <td>106500.0</td>\n",
       "      <td>1500.0</td>\n",
       "      <td>105500.0</td>\n",
       "      <td>107000.0</td>\n",
       "      <td>105000.0</td>\n",
       "      <td>232456.0</td>\n",
       "    </tr>\n",
       "    <tr>\n",
       "      <th>10</th>\n",
       "      <td>2021.03.23</td>\n",
       "      <td>105000.0</td>\n",
       "      <td>0.0</td>\n",
       "      <td>106000.0</td>\n",
       "      <td>107500.0</td>\n",
       "      <td>104500.0</td>\n",
       "      <td>290725.0</td>\n",
       "    </tr>\n",
       "    <tr>\n",
       "      <th>11</th>\n",
       "      <td>2021.03.22</td>\n",
       "      <td>105000.0</td>\n",
       "      <td>2000.0</td>\n",
       "      <td>107500.0</td>\n",
       "      <td>107500.0</td>\n",
       "      <td>103500.0</td>\n",
       "      <td>403798.0</td>\n",
       "    </tr>\n",
       "    <tr>\n",
       "      <th>12</th>\n",
       "      <td>2021.03.19</td>\n",
       "      <td>107000.0</td>\n",
       "      <td>3500.0</td>\n",
       "      <td>108000.0</td>\n",
       "      <td>109000.0</td>\n",
       "      <td>106000.0</td>\n",
       "      <td>472786.0</td>\n",
       "    </tr>\n",
       "    <tr>\n",
       "      <th>13</th>\n",
       "      <td>2021.03.18</td>\n",
       "      <td>110500.0</td>\n",
       "      <td>1000.0</td>\n",
       "      <td>115000.0</td>\n",
       "      <td>115500.0</td>\n",
       "      <td>109500.0</td>\n",
       "      <td>657728.0</td>\n",
       "    </tr>\n",
       "  </tbody>\n",
       "</table>\n",
       "</div>"
      ],
      "text/plain": [
       "            날짜        종가     전일비        시가        고가        저가       거래량\n",
       "1   2021.03.31  103000.0  1000.0  108000.0  109000.0  102500.0  670731.0\n",
       "2   2021.03.30  104000.0  3000.0  101500.0  104500.0  100500.0  395848.0\n",
       "3   2021.03.29  101000.0  3000.0  104500.0  104500.0  100000.0  523105.0\n",
       "4   2021.03.26  104000.0   500.0  105000.0  105000.0  102000.0  300995.0\n",
       "5   2021.03.25  104500.0  2000.0  106000.0  106000.0  104000.0  328715.0\n",
       "9   2021.03.24  106500.0  1500.0  105500.0  107000.0  105000.0  232456.0\n",
       "10  2021.03.23  105000.0     0.0  106000.0  107500.0  104500.0  290725.0\n",
       "11  2021.03.22  105000.0  2000.0  107500.0  107500.0  103500.0  403798.0\n",
       "12  2021.03.19  107000.0  3500.0  108000.0  109000.0  106000.0  472786.0\n",
       "13  2021.03.18  110500.0  1000.0  115000.0  115500.0  109500.0  657728.0"
      ]
     },
     "execution_count": 8,
     "metadata": {},
     "output_type": "execute_result"
    }
   ],
   "source": [
    "# dropna를 통해 결측치가 들어있는 row를 제거합니다.\n",
    "temp = table[0].dropna()\n",
    "temp"
   ]
  },
  {
   "cell_type": "markdown",
   "metadata": {
    "id": "CKhsb94wTMkA"
   },
   "source": [
    "## 페이지별 데이터 수집 함수 만들기"
   ]
  },
  {
   "cell_type": "code",
   "execution_count": 9,
   "metadata": {
    "id": "gJugcyoiTMkA"
   },
   "outputs": [],
   "source": [
    "# 종목 번호를 이용해 page에 따라 데이터를 읽어오는 함수\n",
    "# \"\"\" 는 이 두개 사이의 행들은 주석 처리되며, 함수의 docstring 으로 사용됩니다.\n",
    "\n",
    "def get_day_list(item_code, page_no):\n",
    "    \"\"\"\n",
    "    일자별 시세를 페이지별로 수집\n",
    "    \"\"\" \n",
    "    url = f\"https://finance.naver.com/item/sise_day.nhn?code={item_code}&page={page_no}\"\n",
    "    \n",
    "    headers = {'user-agent': 'Mozilla/5.0 (Macintosh; Intel Mac OS X 10_15_7) AppleWebKit/537.36 (KHTML, like Gecko) Chrome/88.0.4324.96 Safari/537.36'}\n",
    "\n",
    "    response = requests.get(url, headers=headers)\n",
    "    html = bs(response.text, \"lxml\")\n",
    "    table = html.select(\"table\")\n",
    "    table = pd.read_html(str(table))\n",
    "    temp = table[0].dropna()\n",
    "    return temp"
   ]
  },
  {
   "cell_type": "code",
   "execution_count": 10,
   "metadata": {
    "id": "evjinapgTMkA"
   },
   "outputs": [
    {
     "data": {
      "text/html": [
       "<div>\n",
       "<style scoped>\n",
       "    .dataframe tbody tr th:only-of-type {\n",
       "        vertical-align: middle;\n",
       "    }\n",
       "\n",
       "    .dataframe tbody tr th {\n",
       "        vertical-align: top;\n",
       "    }\n",
       "\n",
       "    .dataframe thead th {\n",
       "        text-align: right;\n",
       "    }\n",
       "</style>\n",
       "<table border=\"1\" class=\"dataframe\">\n",
       "  <thead>\n",
       "    <tr style=\"text-align: right;\">\n",
       "      <th></th>\n",
       "      <th>날짜</th>\n",
       "      <th>종가</th>\n",
       "      <th>전일비</th>\n",
       "      <th>시가</th>\n",
       "      <th>고가</th>\n",
       "      <th>저가</th>\n",
       "      <th>거래량</th>\n",
       "    </tr>\n",
       "  </thead>\n",
       "  <tbody>\n",
       "    <tr>\n",
       "      <th>1</th>\n",
       "      <td>2021.03.31</td>\n",
       "      <td>103000.0</td>\n",
       "      <td>1000.0</td>\n",
       "      <td>108000.0</td>\n",
       "      <td>109000.0</td>\n",
       "      <td>102500.0</td>\n",
       "      <td>670731.0</td>\n",
       "    </tr>\n",
       "    <tr>\n",
       "      <th>2</th>\n",
       "      <td>2021.03.30</td>\n",
       "      <td>104000.0</td>\n",
       "      <td>3000.0</td>\n",
       "      <td>101500.0</td>\n",
       "      <td>104500.0</td>\n",
       "      <td>100500.0</td>\n",
       "      <td>395848.0</td>\n",
       "    </tr>\n",
       "    <tr>\n",
       "      <th>3</th>\n",
       "      <td>2021.03.29</td>\n",
       "      <td>101000.0</td>\n",
       "      <td>3000.0</td>\n",
       "      <td>104500.0</td>\n",
       "      <td>104500.0</td>\n",
       "      <td>100000.0</td>\n",
       "      <td>523105.0</td>\n",
       "    </tr>\n",
       "    <tr>\n",
       "      <th>4</th>\n",
       "      <td>2021.03.26</td>\n",
       "      <td>104000.0</td>\n",
       "      <td>500.0</td>\n",
       "      <td>105000.0</td>\n",
       "      <td>105000.0</td>\n",
       "      <td>102000.0</td>\n",
       "      <td>300995.0</td>\n",
       "    </tr>\n",
       "    <tr>\n",
       "      <th>5</th>\n",
       "      <td>2021.03.25</td>\n",
       "      <td>104500.0</td>\n",
       "      <td>2000.0</td>\n",
       "      <td>106000.0</td>\n",
       "      <td>106000.0</td>\n",
       "      <td>104000.0</td>\n",
       "      <td>328715.0</td>\n",
       "    </tr>\n",
       "    <tr>\n",
       "      <th>9</th>\n",
       "      <td>2021.03.24</td>\n",
       "      <td>106500.0</td>\n",
       "      <td>1500.0</td>\n",
       "      <td>105500.0</td>\n",
       "      <td>107000.0</td>\n",
       "      <td>105000.0</td>\n",
       "      <td>232456.0</td>\n",
       "    </tr>\n",
       "    <tr>\n",
       "      <th>10</th>\n",
       "      <td>2021.03.23</td>\n",
       "      <td>105000.0</td>\n",
       "      <td>0.0</td>\n",
       "      <td>106000.0</td>\n",
       "      <td>107500.0</td>\n",
       "      <td>104500.0</td>\n",
       "      <td>290725.0</td>\n",
       "    </tr>\n",
       "    <tr>\n",
       "      <th>11</th>\n",
       "      <td>2021.03.22</td>\n",
       "      <td>105000.0</td>\n",
       "      <td>2000.0</td>\n",
       "      <td>107500.0</td>\n",
       "      <td>107500.0</td>\n",
       "      <td>103500.0</td>\n",
       "      <td>403798.0</td>\n",
       "    </tr>\n",
       "    <tr>\n",
       "      <th>12</th>\n",
       "      <td>2021.03.19</td>\n",
       "      <td>107000.0</td>\n",
       "      <td>3500.0</td>\n",
       "      <td>108000.0</td>\n",
       "      <td>109000.0</td>\n",
       "      <td>106000.0</td>\n",
       "      <td>472786.0</td>\n",
       "    </tr>\n",
       "    <tr>\n",
       "      <th>13</th>\n",
       "      <td>2021.03.18</td>\n",
       "      <td>110500.0</td>\n",
       "      <td>1000.0</td>\n",
       "      <td>115000.0</td>\n",
       "      <td>115500.0</td>\n",
       "      <td>109500.0</td>\n",
       "      <td>657728.0</td>\n",
       "    </tr>\n",
       "  </tbody>\n",
       "</table>\n",
       "</div>"
      ],
      "text/plain": [
       "            날짜        종가     전일비        시가        고가        저가       거래량\n",
       "1   2021.03.31  103000.0  1000.0  108000.0  109000.0  102500.0  670731.0\n",
       "2   2021.03.30  104000.0  3000.0  101500.0  104500.0  100500.0  395848.0\n",
       "3   2021.03.29  101000.0  3000.0  104500.0  104500.0  100000.0  523105.0\n",
       "4   2021.03.26  104000.0   500.0  105000.0  105000.0  102000.0  300995.0\n",
       "5   2021.03.25  104500.0  2000.0  106000.0  106000.0  104000.0  328715.0\n",
       "9   2021.03.24  106500.0  1500.0  105500.0  107000.0  105000.0  232456.0\n",
       "10  2021.03.23  105000.0     0.0  106000.0  107500.0  104500.0  290725.0\n",
       "11  2021.03.22  105000.0  2000.0  107500.0  107500.0  103500.0  403798.0\n",
       "12  2021.03.19  107000.0  3500.0  108000.0  109000.0  106000.0  472786.0\n",
       "13  2021.03.18  110500.0  1000.0  115000.0  115500.0  109500.0  657728.0"
      ]
     },
     "execution_count": 10,
     "metadata": {},
     "output_type": "execute_result"
    }
   ],
   "source": [
    "# 함수가 잘 만들어졌는지 확인하기\n",
    "get_day_list(item_code, 1)"
   ]
  },
  {
   "cell_type": "markdown",
   "metadata": {
    "id": "uuaac8XTTMkA"
   },
   "source": [
    "## 반복문을 통한 전체 일자 데이터 수집하기\n",
    "* (주의) 기간이 긴 데이터를 수집할때는 서버에 부담을 주지 않기 위해 time.sleep()값을 주세요."
   ]
  },
  {
   "cell_type": "code",
   "execution_count": 11,
   "metadata": {
    "id": "EQs1C6C_TMkA"
   },
   "outputs": [
    {
     "name": "stdout",
     "output_type": "stream",
     "text": [
      "1\n",
      "2\n",
      "3\n",
      "4\n",
      "5\n",
      "6\n",
      "7\n",
      "8\n",
      "9\n",
      "10\n"
     ]
    }
   ],
   "source": [
    "import time\n",
    "# web page 시작번호\n",
    "page_no = 1\n",
    "# 데이터를 저장할 빈 변수 선언\n",
    "item_list = []\n",
    "\n",
    "while True:\n",
    "    print(page_no)\n",
    "    temp = get_day_list(item_code, page_no)\n",
    "    item_list.append(temp)\n",
    "    \n",
    "    page_no = page_no + 1\n",
    "    time.sleep(0.1)\n",
    "    \n",
    "    #if temp.shape[0] < 10:\n",
    "    if page_no > 10:\n",
    "        break;"
   ]
  },
  {
   "cell_type": "code",
   "execution_count": 12,
   "metadata": {},
   "outputs": [
    {
     "data": {
      "text/plain": [
       "10"
      ]
     },
     "execution_count": 12,
     "metadata": {},
     "output_type": "execute_result"
    }
   ],
   "source": [
    "len(item_list)"
   ]
  },
  {
   "cell_type": "markdown",
   "metadata": {
    "id": "iEFBJv5XTMkA"
   },
   "source": [
    "## 수집한 데이터 하나의 데이터프레임으로 합치기\n",
    "\n",
    "<img src=\"https://pandas.pydata.org/docs/_images/merging_concat_basic.png\">\n",
    "\n",
    "* [Merge, join, concatenate and compare documentation](https://pandas.pydata.org/docs/user_guide/merging.html#merge-join-concatenate-and-compare)"
   ]
  },
  {
   "cell_type": "code",
   "execution_count": 13,
   "metadata": {
    "id": "mUcxeTMFTMkA"
   },
   "outputs": [],
   "source": [
    "# DataFrame들이 list의 형태로 저장된 것을 concat을 이용하여 합치면서 하나의 DataFrame으로 만듭니다.\n",
    "df = pd.concat(item_list)"
   ]
  },
  {
   "cell_type": "markdown",
   "metadata": {},
   "source": [
    "<img src=\"https://pandas.pydata.org/docs/_images/08_concat_row.svg\">"
   ]
  },
  {
   "cell_type": "code",
   "execution_count": 14,
   "metadata": {
    "id": "Ep3NWfM-TMkA"
   },
   "outputs": [
    {
     "data": {
      "text/html": [
       "<div>\n",
       "<style scoped>\n",
       "    .dataframe tbody tr th:only-of-type {\n",
       "        vertical-align: middle;\n",
       "    }\n",
       "\n",
       "    .dataframe tbody tr th {\n",
       "        vertical-align: top;\n",
       "    }\n",
       "\n",
       "    .dataframe thead th {\n",
       "        text-align: right;\n",
       "    }\n",
       "</style>\n",
       "<table border=\"1\" class=\"dataframe\">\n",
       "  <thead>\n",
       "    <tr style=\"text-align: right;\">\n",
       "      <th></th>\n",
       "      <th>날짜</th>\n",
       "      <th>종가</th>\n",
       "      <th>전일비</th>\n",
       "      <th>시가</th>\n",
       "      <th>고가</th>\n",
       "      <th>저가</th>\n",
       "      <th>거래량</th>\n",
       "    </tr>\n",
       "  </thead>\n",
       "  <tbody>\n",
       "    <tr>\n",
       "      <th>1</th>\n",
       "      <td>2021.03.31</td>\n",
       "      <td>103000.0</td>\n",
       "      <td>1000.0</td>\n",
       "      <td>108000.0</td>\n",
       "      <td>109000.0</td>\n",
       "      <td>102500.0</td>\n",
       "      <td>670731.0</td>\n",
       "    </tr>\n",
       "    <tr>\n",
       "      <th>2</th>\n",
       "      <td>2021.03.30</td>\n",
       "      <td>104000.0</td>\n",
       "      <td>3000.0</td>\n",
       "      <td>101500.0</td>\n",
       "      <td>104500.0</td>\n",
       "      <td>100500.0</td>\n",
       "      <td>395848.0</td>\n",
       "    </tr>\n",
       "    <tr>\n",
       "      <th>3</th>\n",
       "      <td>2021.03.29</td>\n",
       "      <td>101000.0</td>\n",
       "      <td>3000.0</td>\n",
       "      <td>104500.0</td>\n",
       "      <td>104500.0</td>\n",
       "      <td>100000.0</td>\n",
       "      <td>523105.0</td>\n",
       "    </tr>\n",
       "    <tr>\n",
       "      <th>4</th>\n",
       "      <td>2021.03.26</td>\n",
       "      <td>104000.0</td>\n",
       "      <td>500.0</td>\n",
       "      <td>105000.0</td>\n",
       "      <td>105000.0</td>\n",
       "      <td>102000.0</td>\n",
       "      <td>300995.0</td>\n",
       "    </tr>\n",
       "    <tr>\n",
       "      <th>5</th>\n",
       "      <td>2021.03.25</td>\n",
       "      <td>104500.0</td>\n",
       "      <td>2000.0</td>\n",
       "      <td>106000.0</td>\n",
       "      <td>106000.0</td>\n",
       "      <td>104000.0</td>\n",
       "      <td>328715.0</td>\n",
       "    </tr>\n",
       "  </tbody>\n",
       "</table>\n",
       "</div>"
      ],
      "text/plain": [
       "           날짜        종가     전일비        시가        고가        저가       거래량\n",
       "1  2021.03.31  103000.0  1000.0  108000.0  109000.0  102500.0  670731.0\n",
       "2  2021.03.30  104000.0  3000.0  101500.0  104500.0  100500.0  395848.0\n",
       "3  2021.03.29  101000.0  3000.0  104500.0  104500.0  100000.0  523105.0\n",
       "4  2021.03.26  104000.0   500.0  105000.0  105000.0  102000.0  300995.0\n",
       "5  2021.03.25  104500.0  2000.0  106000.0  106000.0  104000.0  328715.0"
      ]
     },
     "execution_count": 14,
     "metadata": {},
     "output_type": "execute_result"
    }
   ],
   "source": [
    "# head와 tail로 데이터의 일부를 가져와서 봅니다.\n",
    "df.head()"
   ]
  },
  {
   "cell_type": "code",
   "execution_count": 15,
   "metadata": {
    "id": "hHcKUo8iTMkA"
   },
   "outputs": [
    {
     "data": {
      "text/html": [
       "<div>\n",
       "<style scoped>\n",
       "    .dataframe tbody tr th:only-of-type {\n",
       "        vertical-align: middle;\n",
       "    }\n",
       "\n",
       "    .dataframe tbody tr th {\n",
       "        vertical-align: top;\n",
       "    }\n",
       "\n",
       "    .dataframe thead th {\n",
       "        text-align: right;\n",
       "    }\n",
       "</style>\n",
       "<table border=\"1\" class=\"dataframe\">\n",
       "  <thead>\n",
       "    <tr style=\"text-align: right;\">\n",
       "      <th></th>\n",
       "      <th>날짜</th>\n",
       "      <th>종가</th>\n",
       "      <th>전일비</th>\n",
       "      <th>시가</th>\n",
       "      <th>고가</th>\n",
       "      <th>저가</th>\n",
       "      <th>거래량</th>\n",
       "    </tr>\n",
       "  </thead>\n",
       "  <tbody>\n",
       "    <tr>\n",
       "      <th>9</th>\n",
       "      <td>2020.11.10</td>\n",
       "      <td>169500.0</td>\n",
       "      <td>500.0</td>\n",
       "      <td>170000.0</td>\n",
       "      <td>170500.0</td>\n",
       "      <td>162000.0</td>\n",
       "      <td>400127.0</td>\n",
       "    </tr>\n",
       "    <tr>\n",
       "      <th>10</th>\n",
       "      <td>2020.11.09</td>\n",
       "      <td>169000.0</td>\n",
       "      <td>500.0</td>\n",
       "      <td>170000.0</td>\n",
       "      <td>171500.0</td>\n",
       "      <td>168500.0</td>\n",
       "      <td>340747.0</td>\n",
       "    </tr>\n",
       "    <tr>\n",
       "      <th>11</th>\n",
       "      <td>2020.11.06</td>\n",
       "      <td>168500.0</td>\n",
       "      <td>1000.0</td>\n",
       "      <td>171000.0</td>\n",
       "      <td>171000.0</td>\n",
       "      <td>167000.0</td>\n",
       "      <td>240472.0</td>\n",
       "    </tr>\n",
       "    <tr>\n",
       "      <th>12</th>\n",
       "      <td>2020.11.05</td>\n",
       "      <td>169500.0</td>\n",
       "      <td>500.0</td>\n",
       "      <td>170500.0</td>\n",
       "      <td>172000.0</td>\n",
       "      <td>167000.0</td>\n",
       "      <td>426878.0</td>\n",
       "    </tr>\n",
       "    <tr>\n",
       "      <th>13</th>\n",
       "      <td>2020.11.04</td>\n",
       "      <td>169000.0</td>\n",
       "      <td>10000.0</td>\n",
       "      <td>160500.0</td>\n",
       "      <td>170000.0</td>\n",
       "      <td>159500.0</td>\n",
       "      <td>913673.0</td>\n",
       "    </tr>\n",
       "  </tbody>\n",
       "</table>\n",
       "</div>"
      ],
      "text/plain": [
       "            날짜        종가      전일비        시가        고가        저가       거래량\n",
       "9   2020.11.10  169500.0    500.0  170000.0  170500.0  162000.0  400127.0\n",
       "10  2020.11.09  169000.0    500.0  170000.0  171500.0  168500.0  340747.0\n",
       "11  2020.11.06  168500.0   1000.0  171000.0  171000.0  167000.0  240472.0\n",
       "12  2020.11.05  169500.0    500.0  170500.0  172000.0  167000.0  426878.0\n",
       "13  2020.11.04  169000.0  10000.0  160500.0  170000.0  159500.0  913673.0"
      ]
     },
     "execution_count": 15,
     "metadata": {},
     "output_type": "execute_result"
    }
   ],
   "source": [
    "df.tail()"
   ]
  },
  {
   "cell_type": "markdown",
   "metadata": {
    "id": "DdML6w8yTMkA"
   },
   "source": [
    "## 데이터프레임에 종목코드와 종목명을 추가하기\n",
    "* 파생변수 만들기"
   ]
  },
  {
   "cell_type": "code",
   "execution_count": 16,
   "metadata": {
    "id": "-yIDnlZHTMkA"
   },
   "outputs": [
    {
     "data": {
      "text/html": [
       "<div>\n",
       "<style scoped>\n",
       "    .dataframe tbody tr th:only-of-type {\n",
       "        vertical-align: middle;\n",
       "    }\n",
       "\n",
       "    .dataframe tbody tr th {\n",
       "        vertical-align: top;\n",
       "    }\n",
       "\n",
       "    .dataframe thead th {\n",
       "        text-align: right;\n",
       "    }\n",
       "</style>\n",
       "<table border=\"1\" class=\"dataframe\">\n",
       "  <thead>\n",
       "    <tr style=\"text-align: right;\">\n",
       "      <th></th>\n",
       "      <th>날짜</th>\n",
       "      <th>종가</th>\n",
       "      <th>전일비</th>\n",
       "      <th>시가</th>\n",
       "      <th>고가</th>\n",
       "      <th>저가</th>\n",
       "      <th>거래량</th>\n",
       "      <th>종목코드</th>\n",
       "      <th>종목명</th>\n",
       "    </tr>\n",
       "  </thead>\n",
       "  <tbody>\n",
       "    <tr>\n",
       "      <th>1</th>\n",
       "      <td>2021.03.31</td>\n",
       "      <td>103000.0</td>\n",
       "      <td>1000.0</td>\n",
       "      <td>108000.0</td>\n",
       "      <td>109000.0</td>\n",
       "      <td>102500.0</td>\n",
       "      <td>670731.0</td>\n",
       "      <td>326030</td>\n",
       "      <td>SK바이오팜</td>\n",
       "    </tr>\n",
       "    <tr>\n",
       "      <th>2</th>\n",
       "      <td>2021.03.30</td>\n",
       "      <td>104000.0</td>\n",
       "      <td>3000.0</td>\n",
       "      <td>101500.0</td>\n",
       "      <td>104500.0</td>\n",
       "      <td>100500.0</td>\n",
       "      <td>395848.0</td>\n",
       "      <td>326030</td>\n",
       "      <td>SK바이오팜</td>\n",
       "    </tr>\n",
       "    <tr>\n",
       "      <th>3</th>\n",
       "      <td>2021.03.29</td>\n",
       "      <td>101000.0</td>\n",
       "      <td>3000.0</td>\n",
       "      <td>104500.0</td>\n",
       "      <td>104500.0</td>\n",
       "      <td>100000.0</td>\n",
       "      <td>523105.0</td>\n",
       "      <td>326030</td>\n",
       "      <td>SK바이오팜</td>\n",
       "    </tr>\n",
       "    <tr>\n",
       "      <th>4</th>\n",
       "      <td>2021.03.26</td>\n",
       "      <td>104000.0</td>\n",
       "      <td>500.0</td>\n",
       "      <td>105000.0</td>\n",
       "      <td>105000.0</td>\n",
       "      <td>102000.0</td>\n",
       "      <td>300995.0</td>\n",
       "      <td>326030</td>\n",
       "      <td>SK바이오팜</td>\n",
       "    </tr>\n",
       "    <tr>\n",
       "      <th>5</th>\n",
       "      <td>2021.03.25</td>\n",
       "      <td>104500.0</td>\n",
       "      <td>2000.0</td>\n",
       "      <td>106000.0</td>\n",
       "      <td>106000.0</td>\n",
       "      <td>104000.0</td>\n",
       "      <td>328715.0</td>\n",
       "      <td>326030</td>\n",
       "      <td>SK바이오팜</td>\n",
       "    </tr>\n",
       "    <tr>\n",
       "      <th>...</th>\n",
       "      <td>...</td>\n",
       "      <td>...</td>\n",
       "      <td>...</td>\n",
       "      <td>...</td>\n",
       "      <td>...</td>\n",
       "      <td>...</td>\n",
       "      <td>...</td>\n",
       "      <td>...</td>\n",
       "      <td>...</td>\n",
       "    </tr>\n",
       "    <tr>\n",
       "      <th>9</th>\n",
       "      <td>2020.11.10</td>\n",
       "      <td>169500.0</td>\n",
       "      <td>500.0</td>\n",
       "      <td>170000.0</td>\n",
       "      <td>170500.0</td>\n",
       "      <td>162000.0</td>\n",
       "      <td>400127.0</td>\n",
       "      <td>326030</td>\n",
       "      <td>SK바이오팜</td>\n",
       "    </tr>\n",
       "    <tr>\n",
       "      <th>10</th>\n",
       "      <td>2020.11.09</td>\n",
       "      <td>169000.0</td>\n",
       "      <td>500.0</td>\n",
       "      <td>170000.0</td>\n",
       "      <td>171500.0</td>\n",
       "      <td>168500.0</td>\n",
       "      <td>340747.0</td>\n",
       "      <td>326030</td>\n",
       "      <td>SK바이오팜</td>\n",
       "    </tr>\n",
       "    <tr>\n",
       "      <th>11</th>\n",
       "      <td>2020.11.06</td>\n",
       "      <td>168500.0</td>\n",
       "      <td>1000.0</td>\n",
       "      <td>171000.0</td>\n",
       "      <td>171000.0</td>\n",
       "      <td>167000.0</td>\n",
       "      <td>240472.0</td>\n",
       "      <td>326030</td>\n",
       "      <td>SK바이오팜</td>\n",
       "    </tr>\n",
       "    <tr>\n",
       "      <th>12</th>\n",
       "      <td>2020.11.05</td>\n",
       "      <td>169500.0</td>\n",
       "      <td>500.0</td>\n",
       "      <td>170500.0</td>\n",
       "      <td>172000.0</td>\n",
       "      <td>167000.0</td>\n",
       "      <td>426878.0</td>\n",
       "      <td>326030</td>\n",
       "      <td>SK바이오팜</td>\n",
       "    </tr>\n",
       "    <tr>\n",
       "      <th>13</th>\n",
       "      <td>2020.11.04</td>\n",
       "      <td>169000.0</td>\n",
       "      <td>10000.0</td>\n",
       "      <td>160500.0</td>\n",
       "      <td>170000.0</td>\n",
       "      <td>159500.0</td>\n",
       "      <td>913673.0</td>\n",
       "      <td>326030</td>\n",
       "      <td>SK바이오팜</td>\n",
       "    </tr>\n",
       "  </tbody>\n",
       "</table>\n",
       "<p>100 rows × 9 columns</p>\n",
       "</div>"
      ],
      "text/plain": [
       "            날짜        종가      전일비        시가        고가        저가       거래량  \\\n",
       "1   2021.03.31  103000.0   1000.0  108000.0  109000.0  102500.0  670731.0   \n",
       "2   2021.03.30  104000.0   3000.0  101500.0  104500.0  100500.0  395848.0   \n",
       "3   2021.03.29  101000.0   3000.0  104500.0  104500.0  100000.0  523105.0   \n",
       "4   2021.03.26  104000.0    500.0  105000.0  105000.0  102000.0  300995.0   \n",
       "5   2021.03.25  104500.0   2000.0  106000.0  106000.0  104000.0  328715.0   \n",
       "..         ...       ...      ...       ...       ...       ...       ...   \n",
       "9   2020.11.10  169500.0    500.0  170000.0  170500.0  162000.0  400127.0   \n",
       "10  2020.11.09  169000.0    500.0  170000.0  171500.0  168500.0  340747.0   \n",
       "11  2020.11.06  168500.0   1000.0  171000.0  171000.0  167000.0  240472.0   \n",
       "12  2020.11.05  169500.0    500.0  170500.0  172000.0  167000.0  426878.0   \n",
       "13  2020.11.04  169000.0  10000.0  160500.0  170000.0  159500.0  913673.0   \n",
       "\n",
       "      종목코드     종목명  \n",
       "1   326030  SK바이오팜  \n",
       "2   326030  SK바이오팜  \n",
       "3   326030  SK바이오팜  \n",
       "4   326030  SK바이오팜  \n",
       "5   326030  SK바이오팜  \n",
       "..     ...     ...  \n",
       "9   326030  SK바이오팜  \n",
       "10  326030  SK바이오팜  \n",
       "11  326030  SK바이오팜  \n",
       "12  326030  SK바이오팜  \n",
       "13  326030  SK바이오팜  \n",
       "\n",
       "[100 rows x 9 columns]"
      ]
     },
     "execution_count": 16,
     "metadata": {},
     "output_type": "execute_result"
    }
   ],
   "source": [
    "# '종목코드'와 '종목명' column을 추가하면서 각각 item_code와 item_name 값을 입력합니다.\n",
    "df[\"종목코드\"] = item_code\n",
    "df[\"종목명\"] = item_name\n",
    "df"
   ]
  },
  {
   "cell_type": "markdown",
   "metadata": {
    "id": "3RlnKPE1TMkA"
   },
   "source": [
    "## 컬럼 순서 변경하기"
   ]
  },
  {
   "cell_type": "code",
   "execution_count": 17,
   "metadata": {
    "id": "JblNSbuRTMkA"
   },
   "outputs": [
    {
     "data": {
      "text/plain": [
       "Index(['날짜', '종가', '전일비', '시가', '고가', '저가', '거래량', '종목코드', '종목명'], dtype='object')"
      ]
     },
     "execution_count": 17,
     "metadata": {},
     "output_type": "execute_result"
    }
   ],
   "source": [
    "# DataFrame에서 column 들의 이름을 순서를 조정하여 column순서를 변경할 수 있습니다.\n",
    "df.columns"
   ]
  },
  {
   "cell_type": "code",
   "execution_count": 18,
   "metadata": {},
   "outputs": [],
   "source": [
    "cols = ['종목코드', '종목명', '날짜', '종가', '전일비', '시가', '고가', '저가', '거래량']\n",
    "df = df[cols]"
   ]
  },
  {
   "cell_type": "markdown",
   "metadata": {
    "id": "_-SXjeiSTMkA"
   },
   "source": [
    "## 중복데이터 제거하기\n",
    "* drop_duplicates 를 통해 중복된 데이터가 있다면 제거합니다."
   ]
  },
  {
   "cell_type": "code",
   "execution_count": 19,
   "metadata": {
    "id": "F0VZGMNRTMkA"
   },
   "outputs": [
    {
     "data": {
      "text/plain": [
       "(100, 9)"
      ]
     },
     "execution_count": 19,
     "metadata": {},
     "output_type": "execute_result"
    }
   ],
   "source": [
    "# drop_duplicates : row들 끼리 data를 비교하여 같은 값이 있으면 row중 하나를 삭제\n",
    "# df.shape를 전/후로 출력하여 삭제된 row가 있는지 확인\n",
    "df = df.drop_duplicates()\n",
    "df.shape"
   ]
  },
  {
   "cell_type": "markdown",
   "metadata": {
    "id": "viEbEi4iTMkB"
   },
   "source": [
    "## 기술통계값 구하기"
   ]
  },
  {
   "cell_type": "code",
   "execution_count": 20,
   "metadata": {
    "id": "Q-gV-QPPTMkB"
   },
   "outputs": [
    {
     "data": {
      "text/html": [
       "<div>\n",
       "<style scoped>\n",
       "    .dataframe tbody tr th:only-of-type {\n",
       "        vertical-align: middle;\n",
       "    }\n",
       "\n",
       "    .dataframe tbody tr th {\n",
       "        vertical-align: top;\n",
       "    }\n",
       "\n",
       "    .dataframe thead th {\n",
       "        text-align: right;\n",
       "    }\n",
       "</style>\n",
       "<table border=\"1\" class=\"dataframe\">\n",
       "  <thead>\n",
       "    <tr style=\"text-align: right;\">\n",
       "      <th></th>\n",
       "      <th>종가</th>\n",
       "      <th>전일비</th>\n",
       "      <th>시가</th>\n",
       "      <th>고가</th>\n",
       "      <th>저가</th>\n",
       "      <th>거래량</th>\n",
       "    </tr>\n",
       "  </thead>\n",
       "  <tbody>\n",
       "    <tr>\n",
       "      <th>count</th>\n",
       "      <td>100.00000</td>\n",
       "      <td>100.000000</td>\n",
       "      <td>100.000000</td>\n",
       "      <td>100.000000</td>\n",
       "      <td>100.000000</td>\n",
       "      <td>1.000000e+02</td>\n",
       "    </tr>\n",
       "    <tr>\n",
       "      <th>mean</th>\n",
       "      <td>149380.00000</td>\n",
       "      <td>2590.000000</td>\n",
       "      <td>150010.000000</td>\n",
       "      <td>151695.000000</td>\n",
       "      <td>147205.000000</td>\n",
       "      <td>5.635463e+05</td>\n",
       "    </tr>\n",
       "    <tr>\n",
       "      <th>std</th>\n",
       "      <td>25621.57787</td>\n",
       "      <td>3351.752142</td>\n",
       "      <td>25075.137592</td>\n",
       "      <td>25325.446839</td>\n",
       "      <td>25102.526634</td>\n",
       "      <td>1.290102e+06</td>\n",
       "    </tr>\n",
       "    <tr>\n",
       "      <th>min</th>\n",
       "      <td>101000.00000</td>\n",
       "      <td>0.000000</td>\n",
       "      <td>101500.000000</td>\n",
       "      <td>104500.000000</td>\n",
       "      <td>100000.000000</td>\n",
       "      <td>1.076670e+05</td>\n",
       "    </tr>\n",
       "    <tr>\n",
       "      <th>25%</th>\n",
       "      <td>140250.00000</td>\n",
       "      <td>875.000000</td>\n",
       "      <td>142375.000000</td>\n",
       "      <td>143750.000000</td>\n",
       "      <td>138875.000000</td>\n",
       "      <td>1.902075e+05</td>\n",
       "    </tr>\n",
       "    <tr>\n",
       "      <th>50%</th>\n",
       "      <td>152750.00000</td>\n",
       "      <td>1500.000000</td>\n",
       "      <td>153000.000000</td>\n",
       "      <td>155500.000000</td>\n",
       "      <td>151250.000000</td>\n",
       "      <td>2.886030e+05</td>\n",
       "    </tr>\n",
       "    <tr>\n",
       "      <th>75%</th>\n",
       "      <td>170000.00000</td>\n",
       "      <td>3500.000000</td>\n",
       "      <td>170625.000000</td>\n",
       "      <td>171500.000000</td>\n",
       "      <td>168500.000000</td>\n",
       "      <td>5.005030e+05</td>\n",
       "    </tr>\n",
       "    <tr>\n",
       "      <th>max</th>\n",
       "      <td>188500.00000</td>\n",
       "      <td>25500.000000</td>\n",
       "      <td>192500.000000</td>\n",
       "      <td>192500.000000</td>\n",
       "      <td>181500.000000</td>\n",
       "      <td>1.242668e+07</td>\n",
       "    </tr>\n",
       "  </tbody>\n",
       "</table>\n",
       "</div>"
      ],
      "text/plain": [
       "                 종가           전일비             시가             고가  \\\n",
       "count     100.00000    100.000000     100.000000     100.000000   \n",
       "mean   149380.00000   2590.000000  150010.000000  151695.000000   \n",
       "std     25621.57787   3351.752142   25075.137592   25325.446839   \n",
       "min    101000.00000      0.000000  101500.000000  104500.000000   \n",
       "25%    140250.00000    875.000000  142375.000000  143750.000000   \n",
       "50%    152750.00000   1500.000000  153000.000000  155500.000000   \n",
       "75%    170000.00000   3500.000000  170625.000000  171500.000000   \n",
       "max    188500.00000  25500.000000  192500.000000  192500.000000   \n",
       "\n",
       "                  저가           거래량  \n",
       "count     100.000000  1.000000e+02  \n",
       "mean   147205.000000  5.635463e+05  \n",
       "std     25102.526634  1.290102e+06  \n",
       "min    100000.000000  1.076670e+05  \n",
       "25%    138875.000000  1.902075e+05  \n",
       "50%    151250.000000  2.886030e+05  \n",
       "75%    168500.000000  5.005030e+05  \n",
       "max    181500.000000  1.242668e+07  "
      ]
     },
     "execution_count": 20,
     "metadata": {},
     "output_type": "execute_result"
    }
   ],
   "source": [
    "# describe는 기본적으로 수치데이터에 대한 기술통계값을 구하게 됩니다.\n",
    "df.describe()"
   ]
  },
  {
   "cell_type": "markdown",
   "metadata": {},
   "source": [
    "* 참고 : E notation\n",
    "[과학적 기수법 - 위키백과, 우리 모두의 백과사전](https://ko.wikipedia.org/wiki/%EA%B3%BC%ED%95%99%EC%A0%81_%EA%B8%B0%EC%88%98%EB%B2%95)\n",
    "\n",
    "과학적 기수법, 과학적 표기법(scientific notation, scientific form, standard index form, standard form)은 너무 크거나 너무 작은 숫자들을 십진법으로 편하게 작성하여 표현하는 방법이다. 과학자, 수학자, 공학자들이 공통적으로 사용하는데, 부분적인 이유는 특정한 산술을 단순화시켜 주기 때문이다. 과학 계산기에서는 \"SCI\" 디스플레이 모드라는 이름으로 알려져 있다."
   ]
  },
  {
   "cell_type": "code",
   "execution_count": 21,
   "metadata": {},
   "outputs": [
    {
     "data": {
      "text/plain": [
       "100.0"
      ]
     },
     "execution_count": 21,
     "metadata": {},
     "output_type": "execute_result"
    }
   ],
   "source": [
    "# 거래량의 과학적 기수법 읽기\n",
    "1.000000e+02"
   ]
  },
  {
   "cell_type": "code",
   "execution_count": 22,
   "metadata": {},
   "outputs": [
    {
     "data": {
      "text/plain": [
       "470152.3"
      ]
     },
     "execution_count": 22,
     "metadata": {},
     "output_type": "execute_result"
    }
   ],
   "source": [
    "4.701523e+05"
   ]
  },
  {
   "cell_type": "code",
   "execution_count": 23,
   "metadata": {},
   "outputs": [
    {
     "data": {
      "text/plain": [
       "470152.3"
      ]
     },
     "execution_count": 23,
     "metadata": {},
     "output_type": "execute_result"
    }
   ],
   "source": [
    "4.701523 * (10 ** 5)"
   ]
  },
  {
   "cell_type": "markdown",
   "metadata": {
    "id": "Ql0phnyuTMkB"
   },
   "source": [
    "## 최근 날짜 구해서 파일명 만들기"
   ]
  },
  {
   "cell_type": "code",
   "execution_count": 24,
   "metadata": {
    "id": "_dyLUpVVTMkB"
   },
   "outputs": [
    {
     "data": {
      "text/plain": [
       "'2021.03.31'"
      ]
     },
     "execution_count": 24,
     "metadata": {},
     "output_type": "execute_result"
    }
   ],
   "source": [
    "# 날짜 column의 첫 row값 확인\n",
    "date = df.iloc[0][\"날짜\"]\n",
    "date"
   ]
  },
  {
   "cell_type": "code",
   "execution_count": 25,
   "metadata": {
    "id": "teInPugvTMkB"
   },
   "outputs": [
    {
     "data": {
      "text/plain": [
       "'SK바이오팜_326030_2021.03.31.csv'"
      ]
     },
     "execution_count": 25,
     "metadata": {},
     "output_type": "execute_result"
    }
   ],
   "source": [
    "# 종목명, 종목코드, 날짜를 이름으로 하는 csv 파일명 만들기\n",
    "file_name = f\"{item_name}_{item_code}_{date}.csv\"\n",
    "file_name"
   ]
  },
  {
   "cell_type": "markdown",
   "metadata": {
    "id": "1LXe-dutTMkB"
   },
   "source": [
    "## 파일로 저장하기"
   ]
  },
  {
   "cell_type": "code",
   "execution_count": 26,
   "metadata": {
    "id": "dBRXOwIxTMkB"
   },
   "outputs": [],
   "source": [
    "# 파일로 저장하기 \n",
    "# index=False 로 데이터프레임의 기본 index 는 저장하지 않도록 합니다.\n",
    "df.to_csv(file_name, index=False)"
   ]
  },
  {
   "cell_type": "code",
   "execution_count": 27,
   "metadata": {
    "id": "EEfm9Yk9TMkB"
   },
   "outputs": [
    {
     "data": {
      "text/html": [
       "<div>\n",
       "<style scoped>\n",
       "    .dataframe tbody tr th:only-of-type {\n",
       "        vertical-align: middle;\n",
       "    }\n",
       "\n",
       "    .dataframe tbody tr th {\n",
       "        vertical-align: top;\n",
       "    }\n",
       "\n",
       "    .dataframe thead th {\n",
       "        text-align: right;\n",
       "    }\n",
       "</style>\n",
       "<table border=\"1\" class=\"dataframe\">\n",
       "  <thead>\n",
       "    <tr style=\"text-align: right;\">\n",
       "      <th></th>\n",
       "      <th>종목코드</th>\n",
       "      <th>종목명</th>\n",
       "      <th>날짜</th>\n",
       "      <th>종가</th>\n",
       "      <th>전일비</th>\n",
       "      <th>시가</th>\n",
       "      <th>고가</th>\n",
       "      <th>저가</th>\n",
       "      <th>거래량</th>\n",
       "    </tr>\n",
       "  </thead>\n",
       "  <tbody>\n",
       "    <tr>\n",
       "      <th>0</th>\n",
       "      <td>326030</td>\n",
       "      <td>SK바이오팜</td>\n",
       "      <td>2021.03.31</td>\n",
       "      <td>103000.0</td>\n",
       "      <td>1000.0</td>\n",
       "      <td>108000.0</td>\n",
       "      <td>109000.0</td>\n",
       "      <td>102500.0</td>\n",
       "      <td>670731.0</td>\n",
       "    </tr>\n",
       "    <tr>\n",
       "      <th>1</th>\n",
       "      <td>326030</td>\n",
       "      <td>SK바이오팜</td>\n",
       "      <td>2021.03.30</td>\n",
       "      <td>104000.0</td>\n",
       "      <td>3000.0</td>\n",
       "      <td>101500.0</td>\n",
       "      <td>104500.0</td>\n",
       "      <td>100500.0</td>\n",
       "      <td>395848.0</td>\n",
       "    </tr>\n",
       "    <tr>\n",
       "      <th>2</th>\n",
       "      <td>326030</td>\n",
       "      <td>SK바이오팜</td>\n",
       "      <td>2021.03.29</td>\n",
       "      <td>101000.0</td>\n",
       "      <td>3000.0</td>\n",
       "      <td>104500.0</td>\n",
       "      <td>104500.0</td>\n",
       "      <td>100000.0</td>\n",
       "      <td>523105.0</td>\n",
       "    </tr>\n",
       "    <tr>\n",
       "      <th>3</th>\n",
       "      <td>326030</td>\n",
       "      <td>SK바이오팜</td>\n",
       "      <td>2021.03.26</td>\n",
       "      <td>104000.0</td>\n",
       "      <td>500.0</td>\n",
       "      <td>105000.0</td>\n",
       "      <td>105000.0</td>\n",
       "      <td>102000.0</td>\n",
       "      <td>300995.0</td>\n",
       "    </tr>\n",
       "    <tr>\n",
       "      <th>4</th>\n",
       "      <td>326030</td>\n",
       "      <td>SK바이오팜</td>\n",
       "      <td>2021.03.25</td>\n",
       "      <td>104500.0</td>\n",
       "      <td>2000.0</td>\n",
       "      <td>106000.0</td>\n",
       "      <td>106000.0</td>\n",
       "      <td>104000.0</td>\n",
       "      <td>328715.0</td>\n",
       "    </tr>\n",
       "    <tr>\n",
       "      <th>...</th>\n",
       "      <td>...</td>\n",
       "      <td>...</td>\n",
       "      <td>...</td>\n",
       "      <td>...</td>\n",
       "      <td>...</td>\n",
       "      <td>...</td>\n",
       "      <td>...</td>\n",
       "      <td>...</td>\n",
       "      <td>...</td>\n",
       "    </tr>\n",
       "    <tr>\n",
       "      <th>95</th>\n",
       "      <td>326030</td>\n",
       "      <td>SK바이오팜</td>\n",
       "      <td>2020.11.10</td>\n",
       "      <td>169500.0</td>\n",
       "      <td>500.0</td>\n",
       "      <td>170000.0</td>\n",
       "      <td>170500.0</td>\n",
       "      <td>162000.0</td>\n",
       "      <td>400127.0</td>\n",
       "    </tr>\n",
       "    <tr>\n",
       "      <th>96</th>\n",
       "      <td>326030</td>\n",
       "      <td>SK바이오팜</td>\n",
       "      <td>2020.11.09</td>\n",
       "      <td>169000.0</td>\n",
       "      <td>500.0</td>\n",
       "      <td>170000.0</td>\n",
       "      <td>171500.0</td>\n",
       "      <td>168500.0</td>\n",
       "      <td>340747.0</td>\n",
       "    </tr>\n",
       "    <tr>\n",
       "      <th>97</th>\n",
       "      <td>326030</td>\n",
       "      <td>SK바이오팜</td>\n",
       "      <td>2020.11.06</td>\n",
       "      <td>168500.0</td>\n",
       "      <td>1000.0</td>\n",
       "      <td>171000.0</td>\n",
       "      <td>171000.0</td>\n",
       "      <td>167000.0</td>\n",
       "      <td>240472.0</td>\n",
       "    </tr>\n",
       "    <tr>\n",
       "      <th>98</th>\n",
       "      <td>326030</td>\n",
       "      <td>SK바이오팜</td>\n",
       "      <td>2020.11.05</td>\n",
       "      <td>169500.0</td>\n",
       "      <td>500.0</td>\n",
       "      <td>170500.0</td>\n",
       "      <td>172000.0</td>\n",
       "      <td>167000.0</td>\n",
       "      <td>426878.0</td>\n",
       "    </tr>\n",
       "    <tr>\n",
       "      <th>99</th>\n",
       "      <td>326030</td>\n",
       "      <td>SK바이오팜</td>\n",
       "      <td>2020.11.04</td>\n",
       "      <td>169000.0</td>\n",
       "      <td>10000.0</td>\n",
       "      <td>160500.0</td>\n",
       "      <td>170000.0</td>\n",
       "      <td>159500.0</td>\n",
       "      <td>913673.0</td>\n",
       "    </tr>\n",
       "  </tbody>\n",
       "</table>\n",
       "<p>100 rows × 9 columns</p>\n",
       "</div>"
      ],
      "text/plain": [
       "      종목코드     종목명          날짜        종가      전일비        시가        고가  \\\n",
       "0   326030  SK바이오팜  2021.03.31  103000.0   1000.0  108000.0  109000.0   \n",
       "1   326030  SK바이오팜  2021.03.30  104000.0   3000.0  101500.0  104500.0   \n",
       "2   326030  SK바이오팜  2021.03.29  101000.0   3000.0  104500.0  104500.0   \n",
       "3   326030  SK바이오팜  2021.03.26  104000.0    500.0  105000.0  105000.0   \n",
       "4   326030  SK바이오팜  2021.03.25  104500.0   2000.0  106000.0  106000.0   \n",
       "..     ...     ...         ...       ...      ...       ...       ...   \n",
       "95  326030  SK바이오팜  2020.11.10  169500.0    500.0  170000.0  170500.0   \n",
       "96  326030  SK바이오팜  2020.11.09  169000.0    500.0  170000.0  171500.0   \n",
       "97  326030  SK바이오팜  2020.11.06  168500.0   1000.0  171000.0  171000.0   \n",
       "98  326030  SK바이오팜  2020.11.05  169500.0    500.0  170500.0  172000.0   \n",
       "99  326030  SK바이오팜  2020.11.04  169000.0  10000.0  160500.0  170000.0   \n",
       "\n",
       "          저가       거래량  \n",
       "0   102500.0  670731.0  \n",
       "1   100500.0  395848.0  \n",
       "2   100000.0  523105.0  \n",
       "3   102000.0  300995.0  \n",
       "4   104000.0  328715.0  \n",
       "..       ...       ...  \n",
       "95  162000.0  400127.0  \n",
       "96  168500.0  340747.0  \n",
       "97  167000.0  240472.0  \n",
       "98  167000.0  426878.0  \n",
       "99  159500.0  913673.0  \n",
       "\n",
       "[100 rows x 9 columns]"
      ]
     },
     "execution_count": 27,
     "metadata": {},
     "output_type": "execute_result"
    }
   ],
   "source": [
    "# 제대로 저장되었는지 파일을 읽어서 확인합니다\n",
    "pd.read_csv(file_name)"
   ]
  },
  {
   "cell_type": "markdown",
   "metadata": {},
   "source": [
    "## 전체 과정을 하나의 함수로 만들기"
   ]
  },
  {
   "cell_type": "code",
   "execution_count": 28,
   "metadata": {},
   "outputs": [],
   "source": [
    "def get_item_list(item_code, item_name):\n",
    "    \"\"\"\n",
    "    일별 시세를 수집하는 함수\n",
    "    \"\"\"\n",
    "    # web page 시작번호\n",
    "    page_no = 1\n",
    "    # 데이터를 저장할 빈 변수 선언\n",
    "    item_list = []\n",
    "\n",
    "    while True:\n",
    "        temp = get_day_list(item_code, page_no)\n",
    "        item_list.append(temp)\n",
    "\n",
    "        page_no = page_no + 1\n",
    "        time.sleep(0.1)\n",
    "\n",
    "        #if temp.shape[0] < 10:\n",
    "        if page_no > 10:\n",
    "            break\n",
    "            \n",
    "    df = pd.concat(item_list)\n",
    "    df[\"종목코드\"] = item_code\n",
    "    df[\"종목명\"] = item_name\n",
    "    cols = ['종목코드', '종목명', '날짜', '종가', '전일비', '시가', '고가', '저가', '거래량']\n",
    "    df = df[cols]\n",
    "\n",
    "    return df"
   ]
  },
  {
   "cell_type": "code",
   "execution_count": 29,
   "metadata": {},
   "outputs": [
    {
     "data": {
      "text/html": [
       "<div>\n",
       "<style scoped>\n",
       "    .dataframe tbody tr th:only-of-type {\n",
       "        vertical-align: middle;\n",
       "    }\n",
       "\n",
       "    .dataframe tbody tr th {\n",
       "        vertical-align: top;\n",
       "    }\n",
       "\n",
       "    .dataframe thead th {\n",
       "        text-align: right;\n",
       "    }\n",
       "</style>\n",
       "<table border=\"1\" class=\"dataframe\">\n",
       "  <thead>\n",
       "    <tr style=\"text-align: right;\">\n",
       "      <th></th>\n",
       "      <th>종목코드</th>\n",
       "      <th>종목명</th>\n",
       "      <th>날짜</th>\n",
       "      <th>종가</th>\n",
       "      <th>전일비</th>\n",
       "      <th>시가</th>\n",
       "      <th>고가</th>\n",
       "      <th>저가</th>\n",
       "      <th>거래량</th>\n",
       "    </tr>\n",
       "  </thead>\n",
       "  <tbody>\n",
       "    <tr>\n",
       "      <th>1</th>\n",
       "      <td>352820</td>\n",
       "      <td>빅히트</td>\n",
       "      <td>2021.03.31</td>\n",
       "      <td>243000.0</td>\n",
       "      <td>500.0</td>\n",
       "      <td>245000.0</td>\n",
       "      <td>251000.0</td>\n",
       "      <td>241000.0</td>\n",
       "      <td>272572.0</td>\n",
       "    </tr>\n",
       "    <tr>\n",
       "      <th>2</th>\n",
       "      <td>352820</td>\n",
       "      <td>빅히트</td>\n",
       "      <td>2021.03.30</td>\n",
       "      <td>242500.0</td>\n",
       "      <td>6000.0</td>\n",
       "      <td>238000.0</td>\n",
       "      <td>248500.0</td>\n",
       "      <td>237000.0</td>\n",
       "      <td>359390.0</td>\n",
       "    </tr>\n",
       "    <tr>\n",
       "      <th>3</th>\n",
       "      <td>352820</td>\n",
       "      <td>빅히트</td>\n",
       "      <td>2021.03.29</td>\n",
       "      <td>236500.0</td>\n",
       "      <td>5500.0</td>\n",
       "      <td>243500.0</td>\n",
       "      <td>243500.0</td>\n",
       "      <td>234000.0</td>\n",
       "      <td>225213.0</td>\n",
       "    </tr>\n",
       "    <tr>\n",
       "      <th>4</th>\n",
       "      <td>352820</td>\n",
       "      <td>빅히트</td>\n",
       "      <td>2021.03.26</td>\n",
       "      <td>242000.0</td>\n",
       "      <td>6500.0</td>\n",
       "      <td>237000.0</td>\n",
       "      <td>243000.0</td>\n",
       "      <td>229000.0</td>\n",
       "      <td>396518.0</td>\n",
       "    </tr>\n",
       "    <tr>\n",
       "      <th>5</th>\n",
       "      <td>352820</td>\n",
       "      <td>빅히트</td>\n",
       "      <td>2021.03.25</td>\n",
       "      <td>235500.0</td>\n",
       "      <td>16500.0</td>\n",
       "      <td>219000.0</td>\n",
       "      <td>235500.0</td>\n",
       "      <td>218500.0</td>\n",
       "      <td>306749.0</td>\n",
       "    </tr>\n",
       "    <tr>\n",
       "      <th>...</th>\n",
       "      <td>...</td>\n",
       "      <td>...</td>\n",
       "      <td>...</td>\n",
       "      <td>...</td>\n",
       "      <td>...</td>\n",
       "      <td>...</td>\n",
       "      <td>...</td>\n",
       "      <td>...</td>\n",
       "      <td>...</td>\n",
       "    </tr>\n",
       "    <tr>\n",
       "      <th>9</th>\n",
       "      <td>352820</td>\n",
       "      <td>빅히트</td>\n",
       "      <td>2020.11.10</td>\n",
       "      <td>168000.0</td>\n",
       "      <td>5000.0</td>\n",
       "      <td>168500.0</td>\n",
       "      <td>171500.0</td>\n",
       "      <td>166500.0</td>\n",
       "      <td>491183.0</td>\n",
       "    </tr>\n",
       "    <tr>\n",
       "      <th>10</th>\n",
       "      <td>352820</td>\n",
       "      <td>빅히트</td>\n",
       "      <td>2020.11.09</td>\n",
       "      <td>163000.0</td>\n",
       "      <td>1000.0</td>\n",
       "      <td>164000.0</td>\n",
       "      <td>169500.0</td>\n",
       "      <td>161000.0</td>\n",
       "      <td>429226.0</td>\n",
       "    </tr>\n",
       "    <tr>\n",
       "      <th>11</th>\n",
       "      <td>352820</td>\n",
       "      <td>빅히트</td>\n",
       "      <td>2020.11.06</td>\n",
       "      <td>162000.0</td>\n",
       "      <td>2000.0</td>\n",
       "      <td>164500.0</td>\n",
       "      <td>166000.0</td>\n",
       "      <td>159500.0</td>\n",
       "      <td>413106.0</td>\n",
       "    </tr>\n",
       "    <tr>\n",
       "      <th>12</th>\n",
       "      <td>352820</td>\n",
       "      <td>빅히트</td>\n",
       "      <td>2020.11.05</td>\n",
       "      <td>164000.0</td>\n",
       "      <td>15000.0</td>\n",
       "      <td>150500.0</td>\n",
       "      <td>173000.0</td>\n",
       "      <td>150000.0</td>\n",
       "      <td>1565701.0</td>\n",
       "    </tr>\n",
       "    <tr>\n",
       "      <th>13</th>\n",
       "      <td>352820</td>\n",
       "      <td>빅히트</td>\n",
       "      <td>2020.11.04</td>\n",
       "      <td>149000.0</td>\n",
       "      <td>3000.0</td>\n",
       "      <td>153500.0</td>\n",
       "      <td>153500.0</td>\n",
       "      <td>147000.0</td>\n",
       "      <td>329773.0</td>\n",
       "    </tr>\n",
       "  </tbody>\n",
       "</table>\n",
       "<p>100 rows × 9 columns</p>\n",
       "</div>"
      ],
      "text/plain": [
       "      종목코드  종목명          날짜        종가      전일비        시가        고가        저가  \\\n",
       "1   352820  빅히트  2021.03.31  243000.0    500.0  245000.0  251000.0  241000.0   \n",
       "2   352820  빅히트  2021.03.30  242500.0   6000.0  238000.0  248500.0  237000.0   \n",
       "3   352820  빅히트  2021.03.29  236500.0   5500.0  243500.0  243500.0  234000.0   \n",
       "4   352820  빅히트  2021.03.26  242000.0   6500.0  237000.0  243000.0  229000.0   \n",
       "5   352820  빅히트  2021.03.25  235500.0  16500.0  219000.0  235500.0  218500.0   \n",
       "..     ...  ...         ...       ...      ...       ...       ...       ...   \n",
       "9   352820  빅히트  2020.11.10  168000.0   5000.0  168500.0  171500.0  166500.0   \n",
       "10  352820  빅히트  2020.11.09  163000.0   1000.0  164000.0  169500.0  161000.0   \n",
       "11  352820  빅히트  2020.11.06  162000.0   2000.0  164500.0  166000.0  159500.0   \n",
       "12  352820  빅히트  2020.11.05  164000.0  15000.0  150500.0  173000.0  150000.0   \n",
       "13  352820  빅히트  2020.11.04  149000.0   3000.0  153500.0  153500.0  147000.0   \n",
       "\n",
       "          거래량  \n",
       "1    272572.0  \n",
       "2    359390.0  \n",
       "3    225213.0  \n",
       "4    396518.0  \n",
       "5    306749.0  \n",
       "..        ...  \n",
       "9    491183.0  \n",
       "10   429226.0  \n",
       "11   413106.0  \n",
       "12  1565701.0  \n",
       "13   329773.0  \n",
       "\n",
       "[100 rows x 9 columns]"
      ]
     },
     "execution_count": 29,
     "metadata": {},
     "output_type": "execute_result"
    }
   ],
   "source": [
    "item_code = \"352820\"\n",
    "item_name = \"빅히트\"\n",
    "\n",
    "# item_code = \"326030\"\n",
    "# item_name = \"SK바이오팜\"\n",
    "\n",
    "get_item_list(item_code, item_name)"
   ]
  },
  {
   "cell_type": "markdown",
   "metadata": {},
   "source": [
    "## 내가 만든 함수의 기능과 소스코드가 궁금하다면?"
   ]
  },
  {
   "cell_type": "code",
   "execution_count": 30,
   "metadata": {},
   "outputs": [],
   "source": [
    "# 도움말 보기\n",
    "# get_item_list?\n"
   ]
  },
  {
   "cell_type": "code",
   "execution_count": 31,
   "metadata": {},
   "outputs": [],
   "source": [
    "# 소스코드 보기\n",
    "# get_item_list??\n"
   ]
  },
  {
   "cell_type": "code",
   "execution_count": null,
   "metadata": {},
   "outputs": [],
   "source": []
  }
 ],
 "metadata": {
  "colab": {
   "collapsed_sections": [],
   "name": "3. 네이버금융 개별종목 수집.ipynb",
   "provenance": [],
   "toc_visible": true
  },
  "kernelspec": {
   "display_name": "Python 3",
   "language": "python",
   "name": "python3"
  },
  "language_info": {
   "codemirror_mode": {
    "name": "ipython",
    "version": 3
   },
   "file_extension": ".py",
   "mimetype": "text/x-python",
   "name": "python",
   "nbconvert_exporter": "python",
   "pygments_lexer": "ipython3",
   "version": "3.7.6"
  },
  "toc": {
   "base_numbering": 1,
   "nav_menu": {},
   "number_sections": true,
   "sideBar": true,
   "skip_h1_title": false,
   "title_cell": "Table of Contents",
   "title_sidebar": "Contents",
   "toc_cell": false,
   "toc_position": {
    "height": "calc(100% - 180px)",
    "left": "10px",
    "top": "150px",
    "width": "204.8px"
   },
   "toc_section_display": true,
   "toc_window_display": true
  },
  "varInspector": {
   "cols": {
    "lenName": 16,
    "lenType": 16,
    "lenVar": 40
   },
   "kernels_config": {
    "python": {
     "delete_cmd_postfix": "",
     "delete_cmd_prefix": "del ",
     "library": "var_list.py",
     "varRefreshCmd": "print(var_dic_list())"
    },
    "r": {
     "delete_cmd_postfix": ") ",
     "delete_cmd_prefix": "rm(",
     "library": "var_list.r",
     "varRefreshCmd": "cat(var_dic_list()) "
    }
   },
   "types_to_exclude": [
    "module",
    "function",
    "builtin_function_or_method",
    "instance",
    "_Feature"
   ],
   "window_display": false
  }
 },
 "nbformat": 4,
 "nbformat_minor": 1
}
